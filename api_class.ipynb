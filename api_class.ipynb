{
 "cells": [
  {
   "cell_type": "code",
   "execution_count": 29,
   "id": "9c11adf5-ed48-43e3-95e2-7809ed44efbb",
   "metadata": {},
   "outputs": [],
   "source": [
    "import requests\n",
    "import datetime"
   ]
  },
  {
   "cell_type": "code",
   "execution_count": 15,
   "id": "1ccb4f33-57f3-440e-9990-ae9b5edc11d4",
   "metadata": {},
   "outputs": [],
   "source": [
    "api_key = \"920bb56fed8a3a8467fbaf8028928dfe\"\n",
    "city = \"lagos\""
   ]
  },
  {
   "cell_type": "code",
   "execution_count": 17,
   "id": "4911d47d-e03c-4db5-9097-dd6c600db735",
   "metadata": {},
   "outputs": [],
   "source": [
    "url=f\"https://api.openweathermap.org/data/2.5/weather?q={city}&appid={api_key}\""
   ]
  },
  {
   "cell_type": "code",
   "execution_count": 19,
   "id": "6aad9834-fb62-47bc-8e38-f0fb1a3042c6",
   "metadata": {},
   "outputs": [
    {
     "name": "stdout",
     "output_type": "stream",
     "text": [
      "<Response [200]>\n"
     ]
    }
   ],
   "source": [
    "response=requests.get(url)\n",
    "print (response)"
   ]
  },
  {
   "cell_type": "code",
   "execution_count": 21,
   "id": "c6150e5a-bf5f-40c1-bbe4-a6a29144d7d9",
   "metadata": {},
   "outputs": [
    {
     "name": "stdout",
     "output_type": "stream",
     "text": [
      "{'coord': {'lon': 3.75, 'lat': 6.5833}, 'weather': [{'id': 804, 'main': 'Clouds', 'description': 'overcast clouds', 'icon': '04n'}], 'base': 'stations', 'main': {'temp': 301.87, 'feels_like': 306.93, 'temp_min': 301.87, 'temp_max': 301.87, 'pressure': 1008, 'humidity': 79, 'sea_level': 1008, 'grnd_level': 1008}, 'visibility': 10000, 'wind': {'speed': 2.72, 'deg': 213, 'gust': 6.34}, 'clouds': {'all': 100}, 'dt': 1741457126, 'sys': {'country': 'NG', 'sunrise': 1741413287, 'sunset': 1741456621}, 'timezone': 3600, 'id': 2332453, 'name': 'Lagos', 'cod': 200}\n"
     ]
    }
   ],
   "source": [
    "data = response.json()\n",
    "print(data"
   ]
  },
  {
   "cell_type": "code",
   "execution_count": 27,
   "id": "2f11b4de-e628-4135-a04d-7778d702edff",
   "metadata": {},
   "outputs": [
    {
     "name": "stdout",
     "output_type": "stream",
     "text": [
      "2.72\n"
     ]
    }
   ],
   "source": [
    "print(data['wind']['{'coord': {'lon': 3.75, 'lat': 6.5833}, 'weather': [{'id': 804, 'main': 'Clouds', 'description': 'overcast clouds', 'icon': '04n'}], 'base': 'stations', 'main': {'temp': 301.87, 'feels_like': 306.93, 'temp_min': 301.87, 'temp_max': 301.87, 'pressure': 1008, 'humidity': 79, 'sea_level': 1008, 'grnd_level': 1008}, 'visibility': 10000, 'wind': speed'])"
   ]
  },
  {
   "cell_type": "code",
   "execution_count": 75,
   "id": "1dbfde8f-1a72-44ea-85c8-c05d24567b7d",
   "metadata": {},
   "outputs": [],
   "source": [
    "city_name=data['name']\n",
    "temp=data['main']['temp']-273.15\n",
    "humidity=data['main']['humidity']\n",
    "wind_speed=(data['wind']['speed'] * 60 * 60)/1000\n",
    "description= data['weather'][0].get('description')\n",
    "timestamp = str(datetime.datetime.fromtimestamp(data.get('dt')))"
   ]
  },
  {
   "cell_type": "markdown",
   "id": "7f9fb7b6-457e-4ce2-99f1-d9584355a472",
   "metadata": {},
   "source": [
    "# load"
   ]
  },
  {
   "cell_type": "code",
   "execution_count": 79,
   "id": "3c643e7b-8311-44b9-ad16-34e09478c5ff",
   "metadata": {},
   "outputs": [],
   "source": [
    "import sqlite3"
   ]
  },
  {
   "cell_type": "code",
   "execution_count": null,
   "id": "c4295a04-8486-4f0e-985c-4bbcd3752f13",
   "metadata": {},
   "outputs": [],
   "source": []
  },
  {
   "cell_type": "code",
   "execution_count": 81,
   "id": "97be73c0-4a68-4d30-9c8e-95eb1299a61c",
   "metadata": {},
   "outputs": [],
   "source": [
    "#create connection\n",
    "conn=sqlite3.connect(\":memory:\")"
   ]
  },
  {
   "cell_type": "code",
   "execution_count": 83,
   "id": "4d4b3c94-42d8-4516-b525-71e03896f2e4",
   "metadata": {},
   "outputs": [],
   "source": [
    "#add a cursor to the connection\n",
    "cursor=conn.cursor()"
   ]
  },
  {
   "cell_type": "code",
   "execution_count": 95,
   "id": "8561a77d-c05c-4801-81ad-0d9379e53832",
   "metadata": {},
   "outputs": [
    {
     "data": {
      "text/plain": [
       "<sqlite3.Cursor at 0x1c59d944840>"
      ]
     },
     "execution_count": 95,
     "metadata": {},
     "output_type": "execute_result"
    }
   ],
   "source": [
    "cursor.execute(\"DROP TABLE IF EXISTS weather_data;\")"
   ]
  },
  {
   "cell_type": "code",
   "execution_count": 97,
   "id": "3c5f0761-5922-43b8-9be6-1729212a7c8c",
   "metadata": {},
   "outputs": [
    {
     "data": {
      "text/plain": [
       "<sqlite3.Cursor at 0x1c59d944840>"
      ]
     },
     "execution_count": 97,
     "metadata": {},
     "output_type": "execute_result"
    }
   ],
   "source": [
    "# Create table\n",
    "cursor.execute(\"\"\"\n",
    "CREATE TABLE weather_data( id INTEGER PRIMARY KEY AUTOINCREMENT,\n",
    "city TEXT,\n",
    "temperature_celsius REAL,\n",
    "humidity INTEGER,\n",
    "wind_speed_kmh REAL,\n",
    "weather_description TEXT,\n",
    "timestamp TEXT)\n",
    "\"\"\")"
   ]
  },
  {
   "cell_type": "code",
   "execution_count": 99,
   "id": "d57d8433-35f3-4f24-85b3-886bd11b5997",
   "metadata": {},
   "outputs": [],
   "source": [
    " conn.commit()\n"
   ]
  },
  {
   "cell_type": "code",
   "execution_count": 101,
   "id": "6bfe1273-6da0-465a-9af7-bfd0ec7bb1ae",
   "metadata": {},
   "outputs": [
    {
     "data": {
      "text/plain": [
       "<sqlite3.Cursor at 0x1c59d944840>"
      ]
     },
     "execution_count": 101,
     "metadata": {},
     "output_type": "execute_result"
    }
   ],
   "source": [
    "cursor.execute(\"\"\"\n",
    "INSERT INTO weather_data (city, temperature_celsius, humidity, wind_speed_kmh, weather_description, timestamp) \n",
    "VALUES (?,?,?,?,?,?);\n",
    "\"\"\",(city_name,temp,humidity,wind_speed,description,timestamp))"
   ]
  },
  {
   "cell_type": "code",
   "execution_count": 103,
   "id": "94c90f17-d0c1-45ff-a133-b413c4d02db5",
   "metadata": {},
   "outputs": [],
   "source": [
    "conn.commit()"
   ]
  },
  {
   "cell_type": "code",
   "execution_count": 105,
   "id": "38ae1f19-7ea7-494c-8181-7106d41fcebb",
   "metadata": {},
   "outputs": [],
   "source": [
    "cursor.execute(\"select * from weather_data\")\n",
    "rows=cursor.fetchall()"
   ]
  },
  {
   "cell_type": "code",
   "execution_count": 107,
   "id": "7aa6d6c6-5155-43f9-8df2-15203876bd6c",
   "metadata": {},
   "outputs": [
    {
     "name": "stdout",
     "output_type": "stream",
     "text": [
      "[(1, 'Lagos', 28.720000000000027, 79, 9.792000000000002, 'overcast clouds', '2025-03-08 18:05:26')]\n"
     ]
    }
   ],
   "source": [
    "print(rows)"
   ]
  },
  {
   "cell_type": "code",
   "execution_count": 109,
   "id": "2a4cbd4f-6776-4ee2-bf9f-a91df35df740",
   "metadata": {},
   "outputs": [
    {
     "name": "stdout",
     "output_type": "stream",
     "text": [
      "[(1, 'Lagos', 28.720000000000027, 79, 9.792000000000002, 'overcast clouds', '2025-03-08 18:05:26')]\n"
     ]
    }
   ],
   "source": [
    "print(rows)"
   ]
  },
  {
   "cell_type": "code",
   "execution_count": null,
   "id": "02040f1d-46fe-4c3c-852b-cb476faf61b0",
   "metadata": {},
   "outputs": [],
   "source": []
  }
 ],
 "metadata": {
  "kernelspec": {
   "display_name": "Python [conda env:base] *",
   "language": "python",
   "name": "conda-base-py"
  },
  "language_info": {
   "codemirror_mode": {
    "name": "ipython",
    "version": 3
   },
   "file_extension": ".py",
   "mimetype": "text/x-python",
   "name": "python",
   "nbconvert_exporter": "python",
   "pygments_lexer": "ipython3",
   "version": "3.11.5"
  }
 },
 "nbformat": 4,
 "nbformat_minor": 5
}
